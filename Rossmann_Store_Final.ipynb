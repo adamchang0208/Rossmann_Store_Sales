{
 "cells": [
  {
   "cell_type": "markdown",
   "metadata": {},
   "source": [
    "## Part I: Data Cleaning and Feature Engineering\n",
    "## Step 1. Import Packages\n"
   ]
  },
  {
   "cell_type": "code",
   "execution_count": 1,
   "metadata": {},
   "outputs": [],
   "source": [
    "import pandas as pd\n",
    "import numpy as np\n",
    "import sklearn\n",
    "from sklearn import linear_model\n",
    "import matplotlib.pyplot as plt\n",
    "from datetime import datetime\n",
    "import xgboost as xgb\n",
    "import operator\n"
   ]
  },
  {
   "cell_type": "markdown",
   "metadata": {},
   "source": [
    "## Step 2. Import data"
   ]
  },
  {
   "cell_type": "code",
   "execution_count": 3,
   "metadata": {
    "collapsed": true
   },
   "outputs": [
    {
     "name": "stderr",
     "output_type": "stream",
     "text": [
      "C:\\Users\\heman\\Anaconda3\\lib\\site-packages\\IPython\\core\\interactiveshell.py:2785: DtypeWarning: Columns (7) have mixed types. Specify dtype option on import or set low_memory=False.\n",
      "  interactivity=interactivity, compiler=compiler, result=result)\n"
     ]
    }
   ],
   "source": [
    "train = pd.read_csv('train.csv')\n",
    "test = pd.read_csv('test.csv') \n",
    "store = pd.read_csv('store.csv')\n",
    "submission = pd.read_csv('sample_submission.csv')"
   ]
  },
  {
   "cell_type": "markdown",
   "metadata": {},
   "source": [
    "## Step 3. Drop duplicates - Train Table and Store Table"
   ]
  },
  {
   "cell_type": "code",
   "execution_count": 4,
   "metadata": {},
   "outputs": [],
   "source": [
    "store = store.drop_duplicates()\n",
    "train = train.drop_duplicates()"
   ]
  },
  {
   "cell_type": "markdown",
   "metadata": {},
   "source": [
    "## Step 4. Outlier Detection"
   ]
  },
  {
   "cell_type": "code",
   "execution_count": 5,
   "metadata": {},
   "outputs": [],
   "source": [
    "IQR = train.Sales.quantile(0.75) - train.Sales.quantile(0.25)\n",
    "low = train.Sales.quantile(0.25) - 3*IQR\n",
    "high = train.Sales.quantile(0.75) + 3*IQR\n",
    "train.Sales[(train.Sales <= high) & (train.Sales >= low)].count()\n",
    "\n",
    "# Remove the 0.4% extreme outliers from the Train Data Table\n",
    "train = train[(train.Sales <= high) & (train.Sales >= low)]\n"
   ]
  },
  {
   "cell_type": "markdown",
   "metadata": {},
   "source": [
    "## Step 5. Missing Values"
   ]
  },
  {
   "cell_type": "code",
   "execution_count": 6,
   "metadata": {},
   "outputs": [
    {
     "data": {
      "text/plain": [
       "Store                          0\n",
       "StoreType                      0\n",
       "Assortment                     0\n",
       "CompetitionDistance            3\n",
       "CompetitionOpenSinceMonth    354\n",
       "CompetitionOpenSinceYear     354\n",
       "Promo2                         0\n",
       "Promo2SinceWeek              544\n",
       "Promo2SinceYear              544\n",
       "PromoInterval                544\n",
       "dtype: int64"
      ]
     },
     "execution_count": 6,
     "metadata": {},
     "output_type": "execute_result"
    }
   ],
   "source": [
    "train.isnull().sum()\n",
    "test.isnull().sum()\n",
    "store.isnull().sum()"
   ]
  },
  {
   "cell_type": "code",
   "execution_count": 7,
   "metadata": {},
   "outputs": [],
   "source": [
    "# a) Test Table: \n",
    "# The store should be open in the test,so we fillna with 1\n",
    "# Fill the 11 NAs in the 'Open' Column of the test set with 1s, which indicates 'openning' (We assume they are opening)\n",
    "\n",
    "test.fillna(1, inplace=True)\n"
   ]
  },
  {
   "cell_type": "code",
   "execution_count": 8,
   "metadata": {},
   "outputs": [],
   "source": [
    "# b) Store Table\n",
    "# Replace NAs in the 'CompetitionOpenSinceYear' with Median (2010)\n",
    "store['CompetitionOpenSinceYear'] = store['CompetitionOpenSinceYear'].fillna(store['CompetitionOpenSinceYear'].median())\n",
    "# Replace NAs in the 'CompetitionOpenSinceMonth' with Median (8-Aug)\n",
    "store['CompetitionOpenSinceMonth'] = store['CompetitionOpenSinceMonth'].fillna(store['CompetitionOpenSinceMonth'].median())\n",
    "# Replace NAs in the 'CompetitionDistance' with Median (2325.0)\n",
    "store['CompetitionDistance'] = store['CompetitionDistance'].fillna(store['CompetitionDistance'].median())"
   ]
  },
  {
   "cell_type": "code",
   "execution_count": null,
   "metadata": {},
   "outputs": [],
   "source": [
    "store.Promo2.count()\n",
    "store.Promo2[store.Promo2 == 0].count()\n",
    "store.Promo2[store.Promo2 == 1].count()\n",
    "# Out of the 1115 unique stores, 571 are partcipating, 544 are not participating."
   ]
  },
  {
   "cell_type": "code",
   "execution_count": 9,
   "metadata": {},
   "outputs": [],
   "source": [
    "# Fill the 544 NAs in the 'Promo2SinceWeek'/'Promo2SinceYear'/'PromoInterval' Columns\n",
    "# of the test set with 0s, which indicates 'no promotion going on'\n",
    "store.fillna(0, inplace=True)\n"
   ]
  },
  {
   "cell_type": "markdown",
   "metadata": {},
   "source": [
    "## Step 6. Feature Engineering: Get store Sales Mean and Sales Standard Deviation:"
   ]
  },
  {
   "cell_type": "code",
   "execution_count": 11,
   "metadata": {},
   "outputs": [],
   "source": [
    "Store_mean = train.groupby('Store')['Sales'].mean()\n",
    "Store_std = train.groupby('Store')['Sales'].std()\n",
    "Store_mean_df = pd.DataFrame(Store_mean).reset_index()\n",
    "Store_std_df = pd.DataFrame(Store_std).reset_index()"
   ]
  },
  {
   "cell_type": "code",
   "execution_count": 12,
   "metadata": {},
   "outputs": [],
   "source": [
    "store = pd.merge(store,Store_mean_df, on='Store', how='left').rename(columns={\"Sales\": \"Store_SalesMean\"})\n",
    "store = pd.merge(store,Store_std_df, on='Store', how='left').rename(columns={\"Sales\": \"Store_SalesStd\"})\n"
   ]
  },
  {
   "cell_type": "markdown",
   "metadata": {},
   "source": [
    "## Step 7. Feature Enginnering: Dates"
   ]
  },
  {
   "cell_type": "code",
   "execution_count": 13,
   "metadata": {
    "collapsed": true
   },
   "outputs": [
    {
     "name": "stderr",
     "output_type": "stream",
     "text": [
      "C:\\Users\\heman\\Anaconda3\\lib\\site-packages\\ipykernel_launcher.py:32: SettingWithCopyWarning: \n",
      "A value is trying to be set on a copy of a slice from a DataFrame\n",
      "\n",
      "See the caveats in the documentation: http://pandas.pydata.org/pandas-docs/stable/indexing.html#indexing-view-versus-copy\n",
      "C:\\Users\\heman\\Anaconda3\\lib\\site-packages\\ipykernel_launcher.py:34: SettingWithCopyWarning: \n",
      "A value is trying to be set on a copy of a slice from a DataFrame\n",
      "\n",
      "See the caveats in the documentation: http://pandas.pydata.org/pandas-docs/stable/indexing.html#indexing-view-versus-copy\n"
     ]
    }
   ],
   "source": [
    "# a) Convert to the right date formats:\n",
    "train['Date'] = pd.to_datetime(train.Date)\n",
    "test['Date'] = pd.to_datetime(test.Date)\n",
    "\n",
    "\n",
    "# b)  Year\n",
    "train['Year'] = train['Date'].dt.year\n",
    "test['Year'] = test['Date'].dt.year\n",
    "\n",
    "# c)  Month\n",
    "train['Month'] = train['Date'].dt.month\n",
    "test['Month'] = test['Date'].dt.month\n",
    "\n",
    "# d)  Weeknum\n",
    "train['Weeknum'] = train['Date'].dt.week\n",
    "test['Weeknum'] = test['Date'].dt.week\n",
    "\n",
    "# e)  Quarter\n",
    "train['Quarter'] = train['Date'].dt.quarter\n",
    "test['Quarter'] = test['Date'].dt.quarter\n",
    "\n",
    "# f)  YearMonth\n",
    "train['YearMonth'] = train['Date'].dt.to_period('M')\n",
    "test['YearMonth'] = test['Date'].dt.to_period('M')\n",
    "\n",
    "# g)  Weekday\n",
    "train['DayOfWeek'] = train['Date'].dt.weekday + 1\n",
    "test['DayOfWeek'] = test['Date'].dt.weekday + 1\n",
    "\n",
    "# h)  Weekend Flag\n",
    "train['WeekendFlag'] = 0\n",
    "train['WeekendFlag'][train['DayOfWeek'] >= 6] = 1\n",
    "test['WeekendFlag'] = 0\n",
    "test['WeekendFlag'][test['DayOfWeek'] >= 6] = 1"
   ]
  },
  {
   "cell_type": "markdown",
   "metadata": {},
   "source": [
    "## Step 8. Feature Engineering: Promotion Interval "
   ]
  },
  {
   "cell_type": "code",
   "execution_count": 14,
   "metadata": {},
   "outputs": [],
   "source": [
    "store.PromoInterval.replace('0', 0,inplace=True)\n",
    "store.PromoInterval.replace('Jan,Apr,Jul,Oct', 1,inplace=True)\n",
    "store.PromoInterval.replace('Feb,May,Aug,Nov', 2,inplace=True)\n",
    "store.PromoInterval.replace('Mar,Jun,Sept,Dec', 3,inplace=True)"
   ]
  },
  {
   "cell_type": "markdown",
   "metadata": {},
   "source": [
    "## Step 9. Feature Engineering: Get the Monthly Total Sales"
   ]
  },
  {
   "cell_type": "code",
   "execution_count": 16,
   "metadata": {},
   "outputs": [],
   "source": [
    "Month_sales_sum = train.groupby('Month')['Sales'].sum()\n",
    "Month_sales_sum_df = pd.DataFrame(Month_sales_sum).reset_index().rename(columns={\"Sales\": \"Monthly_SalesSum\"})"
   ]
  },
  {
   "cell_type": "code",
   "execution_count": 17,
   "metadata": {},
   "outputs": [],
   "source": [
    "train = pd.merge(train,Month_sales_sum_df, on='Month', how='left')\n",
    "test = pd.merge(test,Month_sales_sum_df, on='Month', how='left')"
   ]
  },
  {
   "cell_type": "markdown",
   "metadata": {},
   "source": [
    "## Step 10. Feature Engineering: Get Monthly Total Number of Customers:"
   ]
  },
  {
   "cell_type": "code",
   "execution_count": 18,
   "metadata": {},
   "outputs": [],
   "source": [
    "Month_customers_sum = train.groupby('Month')['Customers'].sum()\n",
    "Month_customers_sum_df = pd.DataFrame(Month_customers_sum).reset_index().rename(columns={\"Customers\": \"Monthly_CustomersSum\"})"
   ]
  },
  {
   "cell_type": "code",
   "execution_count": 19,
   "metadata": {},
   "outputs": [],
   "source": [
    "train = pd.merge(train,Month_customers_sum_df, on='Month', how='left')\n",
    "test = pd.merge(test,Month_customers_sum_df, on='Month', how='left')"
   ]
  },
  {
   "cell_type": "markdown",
   "metadata": {},
   "source": [
    "## Step 11. We only use the data of Sales > 0 and Open is 1"
   ]
  },
  {
   "cell_type": "code",
   "execution_count": 20,
   "metadata": {},
   "outputs": [],
   "source": [
    "# Remove sales less than or equal to zero \n",
    "train_open = train[(train[\"Open\"] != 0) & (train[\"Sales\"] > 0)]\n",
    "test_open = test[test[\"Open\"] != 0]"
   ]
  },
  {
   "cell_type": "markdown",
   "metadata": {},
   "source": [
    "## Step 12. Join the tables (Train + Store & Test + Store)"
   ]
  },
  {
   "cell_type": "code",
   "execution_count": 21,
   "metadata": {},
   "outputs": [],
   "source": [
    "train_combined = pd.merge(train_open[['Store','DayOfWeek','Date','Sales','Promo','StateHoliday','SchoolHoliday','Year','Month','Weeknum','Quarter','YearMonth','WeekendFlag','Monthly_SalesSum','Monthly_CustomersSum']], store, on='Store', how='left')\n",
    "test_combined = pd.merge(test_open[['Id','Store','DayOfWeek','Date','Promo','StateHoliday','SchoolHoliday','Year','Month','Weeknum','Quarter','YearMonth','WeekendFlag','Monthly_SalesSum','Monthly_CustomersSum']], store, on='Store', how='left')"
   ]
  },
  {
   "cell_type": "markdown",
   "metadata": {},
   "source": [
    "## Step 13. Feature Engineering: Promo2 related features"
   ]
  },
  {
   "cell_type": "code",
   "execution_count": 23,
   "metadata": {},
   "outputs": [],
   "source": [
    "# a) In the train set\n",
    "train_combined['Promo2_ongoing'] = ((train_combined.Promo2 == 1) & (train_combined.Year > train_combined.Promo2SinceYear)).astype(int) + \\\n",
    "                                    ((train_combined.Promo2 == 1) & (train_combined.Year == train_combined.Promo2SinceYear) & (train_combined.Weeknum >= train_combined.Promo2SinceWeek)).astype(int)\n",
    "                                    \n",
    "train_combined['Promo2_ongoing_now'] = ((train_combined['Promo2_ongoing'] == 1) & (train_combined.Month % 3 == train_combined.PromoInterval % 3)).astype(int) \n",
    "\n",
    "train_combined.drop(['Promo2','Promo2SinceWeek','Promo2SinceYear','PromoInterval','Promo2_ongoing'], axis = 1, inplace=True)"
   ]
  },
  {
   "cell_type": "code",
   "execution_count": 22,
   "metadata": {},
   "outputs": [],
   "source": [
    "# b) In the test set:\n",
    "test_combined['Promo2_ongoing'] = ((test_combined.Promo2 == 1) & (test_combined.Year > test_combined.Promo2SinceYear)).astype(int) + \\\n",
    "                                    ((test_combined.Promo2 == 1) & (test_combined.Year == test_combined.Promo2SinceYear) & (test_combined.Weeknum >= test_combined.Promo2SinceWeek)).astype(int)\n",
    "                                    \n",
    "test_combined['Promo2_ongoing_now'] = ((test_combined['Promo2_ongoing'] == 1) & (test_combined.Month % 3 == test_combined.PromoInterval % 3)).astype(int) \n",
    "\n",
    "test_combined.drop(['Promo2','Promo2SinceWeek','Promo2SinceYear','PromoInterval','Promo2_ongoing'], axis = 1, inplace=True)\n"
   ]
  },
  {
   "cell_type": "markdown",
   "metadata": {},
   "source": [
    "## Step 14. Feature Engineering: Competition related features"
   ]
  },
  {
   "cell_type": "code",
   "execution_count": 24,
   "metadata": {},
   "outputs": [],
   "source": [
    "# a) In the train set\n",
    "train_combined['CompetitionOpen'] = ((train_combined.Year > train_combined.CompetitionOpenSinceYear)).astype(int) + \\\n",
    "                                    ((train_combined.Year == train_combined.CompetitionOpenSinceYear) & (train_combined.Month >= train_combined.CompetitionOpenSinceMonth)).astype(int)\n",
    "\n",
    "train_combined.CompetitionOpenSinceYear = train_combined.CompetitionOpenSinceYear.astype(int)\n",
    "train_combined.CompetitionOpenSinceMonth = train_combined.CompetitionOpenSinceMonth.astype(int)\n",
    "\n",
    "train_combined['NumOfCompetitionOpenMonths'] = train_combined['CompetitionOpen'] * ((train_combined.Year * 12 + train_combined.Month) - (train_combined.CompetitionOpenSinceYear * 12 + train_combined.CompetitionOpenSinceMonth))\n",
    "\n",
    "train_combined.drop(['CompetitionOpenSinceYear','CompetitionOpenSinceMonth'], axis = 1, inplace=True)\n",
    "\n",
    "train_combined['CompetitionDistance'] = train_combined['CompetitionDistance'] * train_combined['CompetitionOpen']\n"
   ]
  },
  {
   "cell_type": "code",
   "execution_count": 25,
   "metadata": {},
   "outputs": [],
   "source": [
    "# b) In the test set\n",
    "test_combined['CompetitionOpen'] = ((test_combined.Year > test_combined.CompetitionOpenSinceYear)).astype(int) + \\\n",
    "                                    ((test_combined.Year == test_combined.CompetitionOpenSinceYear) & (test_combined.Month >= test_combined.CompetitionOpenSinceMonth)).astype(int)\n",
    "\n",
    "test_combined.CompetitionOpenSinceYear = test_combined.CompetitionOpenSinceYear.astype(int)\n",
    "test_combined.CompetitionOpenSinceMonth = test_combined.CompetitionOpenSinceMonth.astype(int)\n",
    "\n",
    "test_combined['NumOfCompetitionOpenMonths'] = test_combined['CompetitionOpen'] * ((test_combined.Year * 12 + test_combined.Month) - (test_combined.CompetitionOpenSinceYear * 12 + test_combined.CompetitionOpenSinceMonth))\n",
    "\n",
    "test_combined.drop(['CompetitionOpenSinceYear','CompetitionOpenSinceMonth'], axis = 1, inplace=True)\n",
    "\n",
    "test_combined['CompetitionDistance'] = test_combined['CompetitionDistance'] * test_combined['CompetitionOpen']\n"
   ]
  },
  {
   "cell_type": "markdown",
   "metadata": {},
   "source": [
    "## Step 15. Feature Engineering: Convert the 'StateHoliday' into 0 & 1"
   ]
  },
  {
   "cell_type": "code",
   "execution_count": 26,
   "metadata": {
    "collapsed": true
   },
   "outputs": [
    {
     "name": "stderr",
     "output_type": "stream",
     "text": [
      "C:\\Users\\heman\\Anaconda3\\lib\\site-packages\\ipykernel_launcher.py:1: SettingWithCopyWarning: \n",
      "A value is trying to be set on a copy of a slice from a DataFrame\n",
      "\n",
      "See the caveats in the documentation: http://pandas.pydata.org/pandas-docs/stable/indexing.html#indexing-view-versus-copy\n",
      "  \"\"\"Entry point for launching an IPython kernel.\n",
      "C:\\Users\\heman\\Anaconda3\\lib\\site-packages\\ipykernel_launcher.py:2: SettingWithCopyWarning: \n",
      "A value is trying to be set on a copy of a slice from a DataFrame\n",
      "\n",
      "See the caveats in the documentation: http://pandas.pydata.org/pandas-docs/stable/indexing.html#indexing-view-versus-copy\n",
      "  \n"
     ]
    }
   ],
   "source": [
    "train_combined.StateHoliday[(train_combined.StateHoliday == 'a') | (train_combined.StateHoliday == 'b') | (train_combined.StateHoliday == 'c')] = 1\n",
    "test_combined.StateHoliday[(test_combined.StateHoliday == 'a') | (test_combined.StateHoliday == 'b') | (test_combined.StateHoliday == 'c')] = 1\n",
    "train_combined.StateHoliday = train_combined.StateHoliday.astype(int)\n",
    "test_combined.StateHoliday = test_combined.StateHoliday.astype(int)"
   ]
  },
  {
   "cell_type": "markdown",
   "metadata": {},
   "source": [
    "## Step 16. Order the columns"
   ]
  },
  {
   "cell_type": "code",
   "execution_count": 27,
   "metadata": {},
   "outputs": [],
   "source": [
    "# a) In the train set:\n",
    "train_combined = train_combined[['Sales', # Target Variable\n",
    "                                 'Store', # Store id\n",
    "                                 'StoreType', # Store Type: Categorical\n",
    "                                 'Date','Year','Month','YearMonth','Quarter','Weeknum','DayOfWeek', # Time Related\n",
    "                                 'WeekendFlag','StateHoliday','SchoolHoliday', # Weekend & Holiday\n",
    "                                 'Promo','Promo2_ongoing_now', # Promotions(Binary Flag) \n",
    "                                 'CompetitionOpen','CompetitionDistance','NumOfCompetitionOpenMonths', # Competitions\n",
    "                                 'Monthly_SalesSum','Monthly_CustomersSum', # Average Sales and Average Customer Number in the same month\n",
    "                                 'Store_SalesMean','Store_SalesStd', # Store Average Sales and Variance\n",
    "                                 'Assortment']] # Assortment\n",
    "# b) In the test set:\n",
    "test_combined = test_combined[['Id', # Prediction Identifier\n",
    "                               'Store', # Store id\n",
    "                               'StoreType', # Store Type: Categorical\n",
    "                               'Date','Year','Month','YearMonth','Quarter','Weeknum','DayOfWeek', # Time Related\n",
    "                               'WeekendFlag','StateHoliday','SchoolHoliday', # Weekend & Holiday\n",
    "                               'Promo','Promo2_ongoing_now', # Promotions(Binary Flag) \n",
    "                               'CompetitionOpen','CompetitionDistance','NumOfCompetitionOpenMonths', # Competitions\n",
    "                               'Monthly_SalesSum','Monthly_CustomersSum', # Average Sales and Average Customer Number in the same month\n",
    "                               'Store_SalesMean','Store_SalesStd', # Store Average Sales and Variance\n",
    "                               'Assortment']] # Assortment\n"
   ]
  },
  {
   "cell_type": "code",
   "execution_count": 28,
   "metadata": {},
   "outputs": [],
   "source": [
    "# In order to capture the average \n",
    "train_combined['Year_Quarter'] = train_combined['Year'] * 4 + train_combined['Quarter']\n",
    "test_combined['Year_Quarter'] = test_combined['Year'] * 4 + test_combined['Quarter']\n",
    "\n",
    "# We actually get the total sales per store in each quarter\n",
    "sales_by_quarter = train_combined.groupby(['Store','Year_Quarter'])['Sales'].sum().reset_index()\n",
    "sales_by_quarter['Next_Quarter'] = sales_by_quarter['Year_Quarter'] + 1\n",
    "sales_by_quarter = sales_by_quarter.rename(columns={'Year_Quarter': 'This_Quarter','Sales': 'Last_quarter_sales'})\n",
    "\n",
    "train_combined = pd.merge(train_combined,sales_by_quarter,left_on = ['Store','Year_Quarter'],right_on =['Store','Next_Quarter'], how = 'left')\n",
    "test_combined = pd.merge(test_combined,sales_by_quarter,left_on = ['Store','Year_Quarter'],right_on =['Store','Next_Quarter'], how = 'left')\n",
    "\n",
    "# Drop Necessary columns \n",
    "train_combined = train_combined.drop(['This_Quarter','Next_Quarter','Year_Quarter'],axis = 1)\n",
    "test_combined = test_combined.drop(['This_Quarter','Next_Quarter','Year_Quarter'],axis = 1)\n",
    "\n",
    "\n",
    "# Check the number of NA in each columns\n",
    "train_combined.isnull().sum()\n",
    "test_combined.isnull().sum()\n",
    "\n",
    "# According to the result, there are 96807 rows with NA in the 'Last_quarter_sales', when the stores are newly opened or in 2013 Q1\n",
    "train_combined = train_combined.dropna()\n"
   ]
  },
  {
   "cell_type": "markdown",
   "metadata": {},
   "source": [
    "## Step 17. Split the data into two parts -- features (X) and target variable (y) or Id"
   ]
  },
  {
   "cell_type": "code",
   "execution_count": 29,
   "metadata": {},
   "outputs": [
    {
     "data": {
      "text/plain": [
       "Timestamp('2015-09-17 00:00:00')"
      ]
     },
     "execution_count": 29,
     "metadata": {},
     "output_type": "execute_result"
    }
   ],
   "source": [
    "# Meanwhile, drop these variables: 'Store','Date','Year','YearMonth','Weeknum', 'WeekendFlag'\n",
    "train_combined_X = train_combined.iloc[:,1:].drop(['Store','Date','Year','YearMonth','Weeknum','WeekendFlag'],axis = 1)\n",
    "test_combined_X = test_combined.iloc[:,1:].drop(['Store','Date','Year','YearMonth','Weeknum','WeekendFlag'],axis = 1)\n",
    "train_combined_y = train_combined.iloc[:,0]\n",
    "test_combined_id = test_combined.iloc[:,0]\n",
    "\n",
    "train_combined.Date.min()\n",
    "train_combined.Date.max()\n",
    "test_combined.Date.min()\n",
    "test_combined.Date.max()\n"
   ]
  },
  {
   "cell_type": "code",
   "execution_count": 37,
   "metadata": {},
   "outputs": [
    {
     "data": {
      "text/plain": [
       "Index(['StateHoliday', 'SchoolHoliday', 'Promo', 'Promo2_ongoing_now',\n",
       "       'CompetitionOpen', 'CompetitionDistance', 'NumOfCompetitionOpenMonths',\n",
       "       'Monthly_SalesSum', 'Monthly_CustomersSum', 'Store_SalesMean',\n",
       "       'Store_SalesStd', 'Last_quarter_sales', 'TestFlag', 'StoreType_a',\n",
       "       'StoreType_b', 'StoreType_c', 'StoreType_d', 'Month_1', 'Month_2',\n",
       "       'Month_3', 'Month_4', 'Month_5', 'Month_6', 'Month_7', 'Month_8',\n",
       "       'Month_9', 'Month_10', 'Month_11', 'Month_12', 'Quarter_1', 'Quarter_2',\n",
       "       'Quarter_3', 'Quarter_4', 'DayOfWeek_1', 'DayOfWeek_2', 'DayOfWeek_3',\n",
       "       'DayOfWeek_4', 'DayOfWeek_5', 'DayOfWeek_6', 'DayOfWeek_7',\n",
       "       'Assortment_a', 'Assortment_b', 'Assortment_c'],\n",
       "      dtype='object')"
      ]
     },
     "execution_count": 37,
     "metadata": {},
     "output_type": "execute_result"
    }
   ],
   "source": [
    "train_combined_X.columns"
   ]
  },
  {
   "cell_type": "markdown",
   "metadata": {},
   "source": [
    "## Step 18. Convert Categorical Variables in to Dummies"
   ]
  },
  {
   "cell_type": "code",
   "execution_count": 31,
   "metadata": {},
   "outputs": [],
   "source": [
    "# Convert these variables: 'StoreType','Month','Quarter','DayOfWeek','Assortment'\n",
    "# In order to make sure that the conversion is done in parrellel for train set and test set, we combine the train and test set and then do the dummy conversion\n",
    "train_combined_X['TestFlag'] = 0\n",
    "test_combined_X['TestFlag'] = 1\n",
    "combined_X = train_combined_X.append(test_combined_X)\n",
    "combined_X = pd.get_dummies(data = combined_X, columns = ['StoreType','Month','Quarter','DayOfWeek','Assortment'])\n"
   ]
  },
  {
   "cell_type": "markdown",
   "metadata": {},
   "source": [
    "## Step 19. Split the combined into train and test features"
   ]
  },
  {
   "cell_type": "code",
   "execution_count": 32,
   "metadata": {},
   "outputs": [],
   "source": [
    "train_combined_X = combined_X[combined_X.TestFlag == 0]\n",
    "test_combined_X = combined_X[combined_X.TestFlag == 1]"
   ]
  },
  {
   "cell_type": "markdown",
   "metadata": {},
   "source": [
    "# Part II: Fit the Model"
   ]
  },
  {
   "cell_type": "markdown",
   "metadata": {},
   "source": [
    "## Model 1: Linear Regression"
   ]
  },
  {
   "cell_type": "code",
   "execution_count": 33,
   "metadata": {},
   "outputs": [],
   "source": [
    "regr = linear_model.LinearRegression()\n",
    "regr.fit(train_combined_X,train_combined_y)\n",
    "test_combined_df = pd.DataFrame(test_combined_id)\n",
    "test_combined_df['Pred'] = regr.predict(test_combined_X)\n",
    "\n",
    "# Edit the submission format\n",
    "submission_regr = pd.merge(submission,test_combined_df, on = 'Id',how = 'left')\n",
    "submission_regr = submission_regr.fillna(0).drop(['Sales'],axis = 1).rename(columns={\"Pred\": \"Sales\"})\n",
    "submission_regr.to_csv(\"submission_regr_3.csv\", index=False)\n"
   ]
  },
  {
   "cell_type": "markdown",
   "metadata": {},
   "source": [
    "### Submission Performance\n",
    "### 1) Private Score: 0.19544\n",
    "### 2) Public Score: 0.18629"
   ]
  },
  {
   "cell_type": "markdown",
   "metadata": {},
   "source": [
    "## Model 2: Linear Regression: Drop 'CompetitionDistance' and 'NumOfCompetitionOpenMonths'"
   ]
  },
  {
   "cell_type": "code",
   "execution_count": 40,
   "metadata": {},
   "outputs": [],
   "source": [
    "train_combined_X_2 = train_combined_X.drop(['CompetitionDistance','NumOfCompetitionOpenMonths'], axis = 1)\n",
    "test_combined_X_2 = test_combined_X.drop(['CompetitionDistance','NumOfCompetitionOpenMonths'], axis = 1)\n",
    "\n",
    "regr = linear_model.LinearRegression()\n",
    "regr.fit(train_combined_X_2,train_combined_y)\n",
    "test_combined_df = pd.DataFrame(test_combined_id)\n",
    "test_combined_df['Pred'] = regr.predict(test_combined_X_2)\n",
    "\n",
    "# Edit the submission format\n",
    "submission_regr = pd.merge(submission,test_combined_df, on = 'Id',how = 'left')\n",
    "submission_regr = submission_regr.fillna(0).drop(['Sales'],axis = 1).rename(columns={\"Pred\": \"Sales\"})\n",
    "submission_regr.to_csv(\"submission_regr_4.csv\", index=False)\n",
    "\n",
    "# Notice: Accoring to the submission result, dropping 'CompetitionDistance' and 'NumOfCompetitionOpenMonths' will give us slightly better performance"
   ]
  },
  {
   "cell_type": "markdown",
   "metadata": {},
   "source": [
    "### Submission Performance\n",
    "### 1) Private Score: 0.19511\n",
    "### 2) Public Score: 0.18613\n"
   ]
  },
  {
   "cell_type": "markdown",
   "metadata": {},
   "source": [
    "## Model 3: Random Forest"
   ]
  },
  {
   "cell_type": "code",
   "execution_count": 41,
   "metadata": {},
   "outputs": [],
   "source": [
    "# define eval metrics\n",
    "def rmspe(y, yhat):\n",
    "    return np.sqrt(np.mean((yhat/y-1) ** 2))\n",
    "\n",
    "def rmspe_xg(yhat, y):\n",
    "    y = np.expm1(y.get_label())\n",
    "    yhat = np.expm1(yhat)\n",
    "    return \"rmspe\", rmspe(y,yhat)\n",
    "\n",
    "# Fit random forest model\n",
    "from sklearn.ensemble import RandomForestRegressor\n",
    "\n",
    "clf = RandomForestRegressor(n_estimators = 15)\n",
    "clf.fit(train_combined_X_2, train_combined_y)\n",
    "\n",
    "test_combined_df = pd.DataFrame(test_combined_id)\n",
    "test_combined_df['Pred'] = clf.predict(test_combined_X_2)\n",
    "\n",
    "# Edit the submission format\n",
    "submission_rf = pd.merge(submission,test_combined_df, on = 'Id',how = 'left')\n",
    "submission_rf = submission_rf.fillna(0).drop(['Sales'],axis = 1).rename(columns={\"Pred\": \"Sales\"})\n",
    "submission_rf.to_csv(\"submission_rf.csv\", index=False)\n",
    "\n"
   ]
  },
  {
   "cell_type": "markdown",
   "metadata": {},
   "source": [
    "### Submission Performance\n",
    "### 1) Private Score: 0.13759\n",
    "### 2) Public Score: 0.12739\n"
   ]
  },
  {
   "cell_type": "markdown",
   "metadata": {},
   "source": [
    "## Model 4: Random Forest (with Feature Selection)"
   ]
  },
  {
   "cell_type": "code",
   "execution_count": 42,
   "metadata": {},
   "outputs": [
    {
     "data": {
      "image/png": "[encoded data removed]",
      "text/plain": [
       "<Figure size 432x288 with 1 Axes>"
      ]
     },
     "metadata": {},
     "output_type": "display_data"
    }
   ],
   "source": [
    "# plot feature importance for random forest model, show top 20 features\n",
    "feat_importances = pd.Series(clf.feature_importances_, index=train_combined_X_2.columns)\n",
    "feat_importances.nlargest(20).sort_values(ascending = True).plot(kind='barh')\n",
    "plt.xlabel('importance')\n",
    "plt.title('Feature Importance (Random Forest)')\n",
    "\n",
    "# According to the feature importance rank, the most important features are:\n",
    "# 'Store_SalesMean', 'Promo', 'Store_SalesStd', 'Last_quarter_sales', 'DayOfWeek_1', 'Month_12',\n",
    "# 'SchoolHoliday', 'DayOfWeek_6' \n",
    "\n",
    "train_combined_X_3 = train_combined_X_2[['Store_SalesMean', 'Promo', 'Store_SalesStd', 'Last_quarter_sales', 'DayOfWeek_1', 'Month_12','SchoolHoliday', 'DayOfWeek_6']]\n",
    "test_combined_X_3 = test_combined_X_2[['Store_SalesMean', 'Promo', 'Store_SalesStd', 'Last_quarter_sales', 'DayOfWeek_1', 'Month_12','SchoolHoliday', 'DayOfWeek_6']]\n",
    "\n",
    "\n",
    "clf = RandomForestRegressor(n_estimators = 15)\n",
    "clf.fit(train_combined_X_3, train_combined_y)\n",
    "\n",
    "test_combined_df = pd.DataFrame(test_combined_id)\n",
    "test_combined_df['Pred'] = clf.predict(test_combined_X_3)\n",
    "\n",
    "# Edit the submission format\n",
    "submission_rf = pd.merge(submission,test_combined_df, on = 'Id',how = 'left')\n",
    "submission_rf = submission_rf.fillna(0).drop(['Sales'],axis = 1).rename(columns={\"Pred\": \"Sales\"})\n",
    "submission_rf.to_csv(\"submission_rf2.csv\", index=False)\n"
   ]
  },
  {
   "cell_type": "markdown",
   "metadata": {},
   "source": [
    "### Submission Performance\n",
    "### 1) Private Score: 0.17009\n",
    "### 2) Public Score: 0.15546"
   ]
  },
  {
   "cell_type": "markdown",
   "metadata": {},
   "source": [
    "## Model 5: XGBoost (Without Feature Selection)"
   ]
  },
  {
   "cell_type": "code",
   "execution_count": 44,
   "metadata": {},
   "outputs": [],
   "source": [
    "# Feature Importance Evaluation:\n",
    "# Based on https://www.kaggle.com/mmueller/liberty-mutual-group-property-inspection-prediction/xgb-feature-importance-python/code\n",
    "\n",
    "def ceate_feature_map(features):\n",
    "    outfile = open('xgb.fmap', 'w')\n",
    "    i = 0\n",
    "    for feat in features:\n",
    "        outfile.write('{0}\\t{1}\\tq\\n'.format(i, feat))\n",
    "        i = i + 1\n",
    "\n",
    "    outfile.close()\n",
    "\n",
    "\n",
    "features = list(train_combined_X_2.columns)\n",
    "\n",
    "ceate_feature_map(features)\n",
    "\n",
    "# Train the model\n",
    "xgb_params = {\"objective\": \"reg:linear\", \"eta\": 0.01, \"max_depth\": 8, \"seed\": 42, \"silent\": 1}\n",
    "num_rounds = 1000\n",
    "\n",
    "dtrain = xgb.DMatrix(train_combined_X_2, label=train_combined_y)\n",
    "gbdt = xgb.train(xgb_params, dtrain, num_rounds)\n",
    "\n",
    "\n",
    "# Make predictions on the test set:\n",
    "\n",
    "test_combined_df = pd.DataFrame(test_combined_id)\n",
    "dtest = xgb.DMatrix(test_combined_X_2)\n",
    "test_combined_df['Pred'] = gbdt.predict(dtest)\n",
    "\n",
    "\n",
    "# Edit the submission format\n",
    "submission_xgb = pd.merge(submission,test_combined_df, on = 'Id',how = 'left')\n",
    "submission_xgb = submission_xgb.fillna(0).drop(['Sales'],axis = 1).rename(columns={\"Pred\": \"Sales\"})\n",
    "submission_xgb.to_csv(\"submission_xgb3.csv\", index=False)\n",
    "\n"
   ]
  },
  {
   "cell_type": "markdown",
   "metadata": {},
   "source": [
    "## Hyper parameter Tuning using GridSearch"
   ]
  },
  {
   "cell_type": "code",
   "execution_count": null,
   "metadata": {},
   "outputs": [],
   "source": [
    "\n",
    "parameters = {'nthread':[4], #when use hyperthread, xgboost may become slower\n",
    "              'objective':['binary:logistic'],\n",
    "              'learning_rate': [0.05], #so called `eta` value\n",
    "              'max_depth': [6],\n",
    "              'min_child_weight': [11],\n",
    "              'silent': [1],\n",
    "              'subsample': [0.8],\n",
    "              'colsample_bytree': [0.7],\n",
    "              'n_estimators': [5], #number of trees, change it to 1000 for better results\n",
    "              'missing':[-999],\n",
    "              'seed': [1337]}\n",
    "\n",
    "\n",
    "clf = GridSearchCV(xgb_model, parameters, n_jobs=5, \n",
    "                   cv=StratifiedKFold(train['QuoteConversion_Flag'], n_folds=5, shuffle=True), \n",
    "                   scoring='roc_auc',\n",
    "                   verbose=2, refit=True)\n",
    "\n",
    "clf.fit(train[features], train[\"QuoteConversion_Flag\"])\n",
    "\n",
    "best_parameters, score, _ = max(clf.grid_scores_, key=lambda x: x[1])"
   ]
  },
  {
   "cell_type": "markdown",
   "metadata": {},
   "source": [
    "### Submission Performance\n",
    "### 1) Private Score: 0.14203\n",
    "### 2) Public Score: 0.13369\n"
   ]
  },
  {
   "cell_type": "markdown",
   "metadata": {},
   "source": [
    "## Model 6: XGBoost (With Feature Selection)"
   ]
  },
  {
   "cell_type": "code",
   "execution_count": null,
   "metadata": {},
   "outputs": [],
   "source": [
    "importance = gbdt.get_fscore(fmap='xgb.fmap')\n",
    "importance = sorted(importance.items(), key=operator.itemgetter(1))\n",
    "\n",
    "df = pd.DataFrame(importance, columns=['feature', 'fscore'])\n",
    "df['fscore'] = df['fscore'] / df['fscore'].sum()\n",
    "\n",
    "plt.figure()\n",
    "df.plot()\n",
    "df.plot(kind='barh', x='feature', y='fscore', legend=False, figsize=(6, 10))\n",
    "plt.title('XGBoost Feature Importance')\n",
    "plt.xlabel('relative importance')\n",
    "plt.gcf().savefig('feature_importance_xgb.png')\n",
    "\n",
    "# According to the feature importance result, the important features are (Top 25)\n",
    "# 'Store_SalesMean', 'Store_SalesStd','Last_quarter_sales','Monthly_SalesSum', 'SchoolHoliday', 'Promo',\n",
    "# 'DayOfWeek_6', 'Month_12', 'DayOfWeek_5', 'DayOfWeek_1','DayOfWeek_2','StoreType_a', 'DayOfWeek_3', \n",
    "# 'StateHoliday','DayOfWeek_7','DayOfWeek_4', 'Assortment_a','Monthly_CustomersSum',\n",
    "# 'StoreType_d','StoreType_c','Quarter_1','Promo2_ongoing_now','Month_5', 'CompetitionOpen','Quarter_3'\n",
    "\n",
    "# Take the Top 25 most important features\n",
    "train_combined_X_xgb = train_combined_X_2[['Store_SalesMean', 'Store_SalesStd','Last_quarter_sales','Monthly_SalesSum', 'SchoolHoliday', 'Promo',\n",
    "                                           'DayOfWeek_6', 'Month_12', 'DayOfWeek_5', 'DayOfWeek_1','DayOfWeek_2','StoreType_a', 'DayOfWeek_3', \n",
    "                                           'StateHoliday','DayOfWeek_7','DayOfWeek_4', 'Assortment_a','Monthly_CustomersSum',\n",
    "                                           'StoreType_d','StoreType_c','Quarter_1','Promo2_ongoing_now','Month_5', 'CompetitionOpen','Quarter_3']]\n",
    "\n",
    "test_combined_X_xgb = test_combined_X_2[['Store_SalesMean', 'Store_SalesStd','Last_quarter_sales','Monthly_SalesSum', 'SchoolHoliday', 'Promo',\n",
    "                                           'DayOfWeek_6', 'Month_12', 'DayOfWeek_5', 'DayOfWeek_1','DayOfWeek_2','StoreType_a', 'DayOfWeek_3', \n",
    "                                           'StateHoliday','DayOfWeek_7','DayOfWeek_4', 'Assortment_a','Monthly_CustomersSum',\n",
    "                                           'StoreType_d','StoreType_c','Quarter_1','Promo2_ongoing_now','Month_5', 'CompetitionOpen','Quarter_3']]\n",
    "\n",
    "\n",
    "# Make predictions on the test set:\n",
    "dtrain2 = xgb.DMatrix(train_combined_X_xgb, label=train_combined_y)\n",
    "gbdt2 = xgb.train(xgb_params, dtrain2, num_rounds)\n",
    "\n",
    "test_combined_df = pd.DataFrame(test_combined_id)\n",
    "dtest2 = xgb.DMatrix(test_combined_X_xgb)\n",
    "test_combined_df['Pred'] = gbdt2.predict(dtest2)\n",
    "\n",
    "\n",
    "# Edit the submission format\n",
    "submission_xgb = pd.merge(submission,test_combined_df, on = 'Id',how = 'left')\n",
    "submission_xgb = submission_xgb.fillna(0).drop(['Sales'],axis = 1).rename(columns={\"Pred\": \"Sales\"})\n",
    "submission_xgb.to_csv(\"submission_xgb4.csv\", index=False)"
   ]
  },
  {
   "cell_type": "markdown",
   "metadata": {},
   "source": [
    "### Submission Performance\n",
    "### 1) Private Score: 0.14230\n",
    "### 2) Public Score: 0.13263\n"
   ]
  },
  {
   "cell_type": "markdown",
   "metadata": {},
   "source": [
    "## Model 7: XGBoost (With Feature Selection)"
   ]
  },
  {
   "cell_type": "code",
   "execution_count": null,
   "metadata": {},
   "outputs": [],
   "source": [
    "# Take the Top 10 most important features\n",
    "train_combined_X_xgb2 = train_combined_X_2[['Store_SalesMean', 'Store_SalesStd','Last_quarter_sales','Monthly_SalesSum', 'SchoolHoliday', 'Promo',\n",
    "                                           'DayOfWeek_6', 'Month_12', 'DayOfWeek_5', 'DayOfWeek_1']]\n",
    "\n",
    "test_combined_X_xgb2 = test_combined_X_2[['Store_SalesMean', 'Store_SalesStd','Last_quarter_sales','Monthly_SalesSum', 'SchoolHoliday', 'Promo',\n",
    "                                           'DayOfWeek_6', 'Month_12', 'DayOfWeek_5', 'DayOfWeek_1']]\n",
    "\n",
    "\n",
    "# Make predictions on the test set:\n",
    "dtrain3 = xgb.DMatrix(train_combined_X_xgb2, label=train_combined_y)\n",
    "gbdt3 = xgb.train(xgb_params, dtrain3, num_rounds)\n",
    "\n",
    "test_combined_df = pd.DataFrame(test_combined_id)\n",
    "dtest3 = xgb.DMatrix(test_combined_X_xgb2)\n",
    "test_combined_df['Pred'] = gbdt3.predict(dtest3)\n",
    "\n",
    "\n",
    "# Edit the submission format\n",
    "submission_xgb = pd.merge(submission,test_combined_df, on = 'Id',how = 'left')\n",
    "submission_xgb = submission_xgb.fillna(0).drop(['Sales'],axis = 1).rename(columns={\"Pred\": \"Sales\"})\n",
    "submission_xgb.to_csv(\"submission_xgb5.csv\", index=False)"
   ]
  },
  {
   "cell_type": "markdown",
   "metadata": {},
   "source": [
    "### Submission Performance\n",
    "### 1) Private Score: 0.14230\n",
    "### 2) Public Score: 0.13263"
   ]
  }
 ],
 "metadata": {
  "kernelspec": {
   "display_name": "Python 3",
   "language": "python",
   "name": "python3"
  },
  "language_info": {
   "codemirror_mode": {
    "name": "ipython",
    "version": 3
   },
   "file_extension": ".py",
   "mimetype": "text/x-python",
   "name": "python",
   "nbconvert_exporter": "python",
   "pygments_lexer": "ipython3",
   "version": "3.6.6"
  }
 },
 "nbformat": 4,
 "nbformat_minor": 2
}
